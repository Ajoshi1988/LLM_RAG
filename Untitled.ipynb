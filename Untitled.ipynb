{
 "cells": [
  {
   "cell_type": "code",
   "execution_count": 1,
   "id": "7a0024ce-af01-406e-a8b0-f09b0b0e64f5",
   "metadata": {},
   "outputs": [],
   "source": [
    "import ollama\n",
    "import time\n",
    "import os\n",
    "import json\n",
    "import numpy as np\n",
    "from numpy.linalg import norm\n",
    "from openai import OpenAI\n",
    "import psycopg2\n",
    "import pandas as pd"
   ]
  },
  {
   "cell_type": "code",
   "execution_count": 46,
   "id": "3adde8b6-9404-45d0-9213-09090785dd4f",
   "metadata": {},
   "outputs": [],
   "source": [
    "def find_most_similar(prompt_embedding, tbl_name):\n",
    "\n",
    "    #Establish the connection\n",
    "\n",
    "    connection = psycopg2.connect(\n",
    "                dbname=\"django_ops\",\n",
    "                user=\"django_user\",\n",
    "                password=\"django_password\",\n",
    "                host=\"localhost\",  # or your host\n",
    "                port=\"5432\"  # default port for PostgreSQL\n",
    "    )\n",
    "    cursor = connection.cursor()\n",
    "    print(\"Connected to the database\")\n",
    "\n",
    "    # SQL query to select all data from the table\n",
    "    query = f\"SELECT * FROM {tbl_name}\"\n",
    "    df = pd.read_sql_query(query, connection)\n",
    "\n",
    "    paragraphs=list(df['paragraph'])\n",
    "    embeddings=list(df['embeddings'])\n",
    "\n",
    "    norm_prompt=norm(prompt_embedding)\n",
    "\n",
    "    similarity_scores = [\n",
    "        np.dot(prompt_embedding, item) / (norm_prompt * norm(item)) for item in embeddings\n",
    "    ]\n",
    "\n",
    "    ss=sorted(zip(similarity_scores, range(len(embeddings))), reverse=True)\n",
    "\n",
    "    jj=[]\n",
    "    for kk in ss:\n",
    "      jj.append(paragraphs[kk[1]][0])\n",
    "\n",
    "    jj=\"\\n\".join(jj)\n",
    "    print(jj)\n"
   ]
  },
  {
   "cell_type": "code",
   "execution_count": 47,
   "id": "41e746d9-07f5-4c00-bcf9-02402db9b239",
   "metadata": {
    "scrolled": true
   },
   "outputs": [
    {
     "name": "stdout",
     "output_type": "stream",
     "text": [
      "Connected to the database\n",
      "The economy of India is a developing mixed economy with a notable public sector in strategic sectors.[5] It is the world's fifth-largest economy by nominal GDP and the third-largest by purchasing power parity (PPP); on a per capita income basis, India ranked 136th by GDP (nominal) and 125th by GDP (PPP).\n",
      "Nearly 70% of India's GDP is driven by domestic consumption;[74] country remains the world's fourth-largest consumer market.\n",
      "In response, the Narasimha Rao government, including Finance Minister Manmohan Singh, initiated economic reforms in 1991.India is ranked 63rd out of 190 countries in the World Bank's 2020 ease of doing business index, up 14 points from the last year's 100 and up 37 points in just two years.\n",
      "India's overall social welfare spending stood at 8.6% of GDP in 2021-22, which is much lower than the average for OECD nations.\n",
      "Indian state has complete control and ownership of railways, highways; majority control and stake in banking,[66] insurance,[67] farming,[68] dairy, fertilizers & chemicals,[69] airports,[70] nuclear, mining, digitization, defense, steel, rare earths, water, electricity, oil and gas industries and power plants,[71] and has substantial control over digitalization, Broadband as national infrastructure, telecommunication, supercomputing, space, port and shipping industries,[72] among other industries, were effectively nationalised in the mid-1950s.\n",
      "India has free trade agreements with several nations and blocs, including ASEAN, SAFTA, Mercosur, South Korea, Japan, Australia, UAE, and several others which are in effect or under negotiating stage.\n",
      "The end of the Cold War and an acute balance of payments crisis in 1991 led to the adoption of a broad economic liberalisation in India and indicative planning.\n",
      "Indus Valley Civilisation The citizens of the Indus Valley civilisation, a permanent settlement that flourished between 2800 BCE and 1800 BCE, practised agriculture, domesticated animals, used uniform weights and measures, made tools and weapons, and traded with other cities. Evidence of well-planned streets, a drainage system, and water supply reveals their knowledge of urban planning, which included the first-known urban sanitation systems and the existence of a form of municipal government.\n",
      "The service sector makes up more than 50% of GDP and remains the fastest growing sector, while the industrial sector and the agricultural sector employs a majority of the labor force.\n"
     ]
    },
    {
     "name": "stderr",
     "output_type": "stream",
     "text": [
      "C:\\Users\\Lenovo\\AppData\\Local\\Temp\\ipykernel_8464\\1311322454.py:17: UserWarning: pandas only supports SQLAlchemy connectable (engine/connection) or database string URI or sqlite3 DBAPI2 connection. Other DBAPI2 objects are not tested. Please consider using SQLAlchemy.\n",
      "  df = pd.read_sql_query(query, connection)\n"
     ]
    }
   ],
   "source": [
    "prompt_embedding = ollama.embeddings(model=\"nomic-embed-text\", prompt='How big is Indian economy?')[\"embedding\"]\n",
    "find_most_similar(prompt_embedding, 'economy')\n"
   ]
  },
  {
   "cell_type": "code",
   "execution_count": 9,
   "id": "1db6081d-2aae-4569-8d8c-98fba25d4b54",
   "metadata": {},
   "outputs": [
    {
     "ename": "ValueError",
     "evalue": "shapes (1,) and (2,) not aligned: 1 (dim 0) != 2 (dim 0)",
     "output_type": "error",
     "traceback": [
      "\u001b[1;31m---------------------------------------------------------------------------\u001b[0m",
      "\u001b[1;31mValueError\u001b[0m                                Traceback (most recent call last)",
      "Cell \u001b[1;32mIn[9], line 1\u001b[0m\n\u001b[1;32m----> 1\u001b[0m \u001b[43mnp\u001b[49m\u001b[38;5;241;43m.\u001b[39;49m\u001b[43mdot\u001b[49m\u001b[43m(\u001b[49m\u001b[43m[\u001b[49m\u001b[38;5;241;43m9.8\u001b[39;49m\u001b[43m]\u001b[49m\u001b[43m,\u001b[49m\u001b[43m \u001b[49m\u001b[43m[\u001b[49m\u001b[38;5;241;43m2\u001b[39;49m\u001b[43m,\u001b[49m\u001b[38;5;241;43m3\u001b[39;49m\u001b[43m]\u001b[49m\u001b[43m)\u001b[49m\n",
      "\u001b[1;31mValueError\u001b[0m: shapes (1,) and (2,) not aligned: 1 (dim 0) != 2 (dim 0)"
     ]
    }
   ],
   "source": [
    "np.dot([9.8], [2,3])"
   ]
  },
  {
   "cell_type": "code",
   "execution_count": 13,
   "id": "fbdcd10f-c052-48c8-a3ec-eeb961606484",
   "metadata": {},
   "outputs": [
    {
     "name": "stdout",
     "output_type": "stream",
     "text": [
      "Connected to the database\n"
     ]
    },
    {
     "name": "stderr",
     "output_type": "stream",
     "text": [
      "C:\\Users\\Lenovo\\AppData\\Local\\Temp\\ipykernel_8464\\2750441448.py:14: UserWarning: pandas only supports SQLAlchemy connectable (engine/connection) or database string URI or sqlite3 DBAPI2 connection. Other DBAPI2 objects are not tested. Please consider using SQLAlchemy.\n",
      "  df = pd.read_sql_query(query, connection)\n"
     ]
    }
   ],
   "source": [
    "tbl_name='economy'\n",
    "connection = psycopg2.connect(\n",
    "            dbname=\"django_ops\",\n",
    "            user=\"django_user\",\n",
    "            password=\"django_password\",\n",
    "            host=\"localhost\",  # or your host\n",
    "            port=\"5432\"  # default port for PostgreSQL\n",
    ")\n",
    "cursor = connection.cursor()\n",
    "print(\"Connected to the database\")\n",
    "\n",
    "# SQL query to select all data from the table\n",
    "query = f\"SELECT * FROM {tbl_name}\"\n",
    "df = pd.read_sql_query(query, connection)\n",
    "\n",
    "paragraphs=list(df['paragraph'])\n",
    "embeddings=list(df['embeddings'])\n"
   ]
  },
  {
   "cell_type": "code",
   "execution_count": 16,
   "id": "59779669-b717-4ee1-8708-6df330f0b8d3",
   "metadata": {
    "scrolled": true
   },
   "outputs": [
    {
     "data": {
      "text/plain": [
       "list"
      ]
     },
     "execution_count": 16,
     "metadata": {},
     "output_type": "execute_result"
    }
   ],
   "source": [
    "type(embeddings[0])"
   ]
  },
  {
   "cell_type": "code",
   "execution_count": 20,
   "id": "27f60df9-536a-4727-a4e5-7ccf460515de",
   "metadata": {},
   "outputs": [
    {
     "data": {
      "text/plain": [
       "333.84616956508114"
      ]
     },
     "execution_count": 20,
     "metadata": {},
     "output_type": "execute_result"
    }
   ],
   "source": [
    "np.dot(prompt_embedding, embeddings[0])"
   ]
  },
  {
   "cell_type": "code",
   "execution_count": 48,
   "id": "0a87e2c5-9128-43b0-b17e-c6962167cd9e",
   "metadata": {},
   "outputs": [
    {
     "name": "stdin",
     "output_type": "stream",
     "text": [
      "what do you want to know? ->  indus valley\n"
     ]
    },
    {
     "name": "stdout",
     "output_type": "stream",
     "text": [
      "Connected to the database\n",
      "Indus Valley Civilisation The citizens of the Indus Valley civilisation, a permanent settlement that flourished between 2800 BCE and 1800 BCE, practised agriculture, domesticated animals, used uniform weights and measures, made tools and weapons, and traded with other cities. Evidence of well-planned streets, a drainage system, and water supply reveals their knowledge of urban planning, which included the first-known urban sanitation systems and the existence of a form of municipal government.\n",
      "Indian state has complete control and ownership of railways, highways; majority control and stake in banking,[66] insurance,[67] farming,[68] dairy, fertilizers & chemicals,[69] airports,[70] nuclear, mining, digitization, defense, steel, rare earths, water, electricity, oil and gas industries and power plants,[71] and has substantial control over digitalization, Broadband as national infrastructure, telecommunication, supercomputing, space, port and shipping industries,[72] among other industries, were effectively nationalised in the mid-1950s.\n",
      "The economy of India is a developing mixed economy with a notable public sector in strategic sectors.[5] It is the world's fifth-largest economy by nominal GDP and the third-largest by purchasing power parity (PPP); on a per capita income basis, India ranked 136th by GDP (nominal) and 125th by GDP (PPP).\n",
      "Nearly 70% of India's GDP is driven by domestic consumption;[74] country remains the world's fourth-largest consumer market.\n",
      "India's overall social welfare spending stood at 8.6% of GDP in 2021-22, which is much lower than the average for OECD nations.\n",
      "The end of the Cold War and an acute balance of payments crisis in 1991 led to the adoption of a broad economic liberalisation in India and indicative planning.\n",
      "In response, the Narasimha Rao government, including Finance Minister Manmohan Singh, initiated economic reforms in 1991.India is ranked 63rd out of 190 countries in the World Bank's 2020 ease of doing business index, up 14 points from the last year's 100 and up 37 points in just two years.\n",
      "India has free trade agreements with several nations and blocs, including ASEAN, SAFTA, Mercosur, South Korea, Japan, Australia, UAE, and several others which are in effect or under negotiating stage.\n",
      "The service sector makes up more than 50% of GDP and remains the fastest growing sector, while the industrial sector and the agricultural sector employs a majority of the labor force.\n"
     ]
    },
    {
     "name": "stderr",
     "output_type": "stream",
     "text": [
      "C:\\Users\\Lenovo\\AppData\\Local\\Temp\\ipykernel_8464\\1311322454.py:17: UserWarning: pandas only supports SQLAlchemy connectable (engine/connection) or database string URI or sqlite3 DBAPI2 connection. Other DBAPI2 objects are not tested. Please consider using SQLAlchemy.\n",
      "  df = pd.read_sql_query(query, connection)\n"
     ]
    }
   ],
   "source": [
    "    SYSTEM_PROMPT = \"\"\"You are a helpful reading assistant who answers questions\n",
    "        based on snippets of text provided in context. Answer only using the context provided,\n",
    "        being as concise as possible. If you're unsure, just say that you don't know.\n",
    "        Do not give answers that are outside the context given.\n",
    "        Answer in about 150 words for each prompt.\n",
    "        Context:\n",
    "    \"\"\"\n",
    "\n",
    "\n",
    "\n",
    "    prompt = input(\"what do you want to know? -> \")\n",
    "    prompt_embedding = ollama.embeddings(model=\"nomic-embed-text\", prompt=prompt)[\"embedding\"]\n",
    "    most_similar_chunks = find_most_similar(prompt_embedding, tbl_name)\n",
    "\n",
    "\n",
    "    #Download the openai credentials\n",
    "    openai = OpenAI(\n",
    "    api_key=\"api_key\", # Refer to Create a secret key section\n",
    "    base_url=\"https://cloud.olakrutrim.com/v1\",\n",
    "        )\n",
    "\n",
    "\n"
   ]
  },
  {
   "cell_type": "code",
   "execution_count": 49,
   "id": "a316d6d4-020b-4624-99c9-c048d01b1bbf",
   "metadata": {},
   "outputs": [
    {
     "ename": "SyntaxError",
     "evalue": "closing parenthesis ')' does not match opening parenthesis '{' (1660254344.py, line 4)",
     "output_type": "error",
     "traceback": [
      "\u001b[1;36m  Cell \u001b[1;32mIn[49], line 4\u001b[1;36m\u001b[0m\n\u001b[1;33m    {\"role\": \"system\", \"content\":SYSTEM_PROMPT + most_similar_chunks)  },\u001b[0m\n\u001b[1;37m                                                                    ^\u001b[0m\n\u001b[1;31mSyntaxError\u001b[0m\u001b[1;31m:\u001b[0m closing parenthesis ')' does not match opening parenthesis '{'\n"
     ]
    }
   ],
   "source": [
    "    chat_completion = openai.chat.completions.create(\n",
    "    model=\"Meta-Llama-3-8B-Instruct\",\n",
    "    messages=[\n",
    "        {\"role\": \"system\", \"content\":SYSTEM_PROMPT + most_similar_chunks)  },\n",
    "        {\"role\": \"user\", \"content\": prompt}\n",
    "    ],\n",
    "\n",
    "        )\n",
    "\n",
    "\n",
    "    print(\"\\n\\n\")\n",
    "    print(chat_completion.choices[0].message.content)\n"
   ]
  },
  {
   "cell_type": "code",
   "execution_count": null,
   "id": "6a4deaa8-7751-4f5c-be0c-78f86cb2486b",
   "metadata": {},
   "outputs": [],
   "source": []
  }
 ],
 "metadata": {
  "kernelspec": {
   "display_name": "Python 3 (ipykernel)",
   "language": "python",
   "name": "python3"
  },
  "language_info": {
   "codemirror_mode": {
    "name": "ipython",
    "version": 3
   },
   "file_extension": ".py",
   "mimetype": "text/x-python",
   "name": "python",
   "nbconvert_exporter": "python",
   "pygments_lexer": "ipython3",
   "version": "3.9.12"
  }
 },
 "nbformat": 4,
 "nbformat_minor": 5
}
