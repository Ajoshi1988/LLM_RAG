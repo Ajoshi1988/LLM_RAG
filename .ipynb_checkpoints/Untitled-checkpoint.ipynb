{
 "cells": [
  {
   "cell_type": "code",
   "execution_count": 1,
   "id": "7a0024ce-af01-406e-a8b0-f09b0b0e64f5",
   "metadata": {},
   "outputs": [],
   "source": [
    "import ollama\n",
    "import time\n",
    "import os\n",
    "import json\n",
    "import numpy as np\n",
    "from numpy.linalg import norm\n",
    "from openai import OpenAI\n",
    "import psycopg2\n",
    "import pandas as pd"
   ]
  },
  {
   "cell_type": "code",
   "execution_count": 34,
   "id": "3adde8b6-9404-45d0-9213-09090785dd4f",
   "metadata": {},
   "outputs": [],
   "source": [
    "def find_most_similar(prompt_embedding, tbl_name):\n",
    "\n",
    "    #Establish the connection\n",
    "\n",
    "    connection = psycopg2.connect(\n",
    "                dbname=\"django_ops\",\n",
    "                user=\"django_user\",\n",
    "                password=\"django_password\",\n",
    "                host=\"localhost\",  # or your host\n",
    "                port=\"5432\"  # default port for PostgreSQL\n",
    "    )\n",
    "    cursor = connection.cursor()\n",
    "    print(\"Connected to the database\")\n",
    "\n",
    "    # SQL query to select all data from the table\n",
    "    query = f\"SELECT * FROM {tbl_name}\"\n",
    "    df = pd.read_sql_query(query, connection)\n",
    "\n",
    "    paragraphs=list(df['paragraph'])\n",
    "    embeddings=list(df['embeddings'])\n",
    "\n",
    "    norm_prompt=norm(prompt_embedding)\n",
    "\n",
    "    similarity_scores = [\n",
    "        np.dot(prompt_embedding, item) / (norm_prompt * norm(item)) for item in embeddings\n",
    "    ]\n",
    "\n",
    "    ss=sorted(zip(similarity_scores, range(len(embeddings))), reverse=True)\n",
    "\n",
    "    for kk in ss:\n",
    "        print(kk)\n"
   ]
  },
  {
   "cell_type": "code",
   "execution_count": 35,
   "id": "41e746d9-07f5-4c00-bcf9-02402db9b239",
   "metadata": {
    "scrolled": true
   },
   "outputs": [
    {
     "name": "stdout",
     "output_type": "stream",
     "text": [
      "Connected to the database\n",
      "3\n"
     ]
    },
    {
     "name": "stderr",
     "output_type": "stream",
     "text": [
      "C:\\Users\\Lenovo\\AppData\\Local\\Temp\\ipykernel_8464\\250961161.py:17: UserWarning: pandas only supports SQLAlchemy connectable (engine/connection) or database string URI or sqlite3 DBAPI2 connection. Other DBAPI2 objects are not tested. Please consider using SQLAlchemy.\n",
      "  df = pd.read_sql_query(query, connection)\n"
     ]
    }
   ],
   "source": [
    "prompt_embedding = ollama.embeddings(model=\"nomic-embed-text\", prompt='How big is Indian economy?')[\"embedding\"]\n",
    "find_most_similar(prompt_embedding, 'economy')\n"
   ]
  },
  {
   "cell_type": "code",
   "execution_count": 9,
   "id": "1db6081d-2aae-4569-8d8c-98fba25d4b54",
   "metadata": {},
   "outputs": [
    {
     "ename": "ValueError",
     "evalue": "shapes (1,) and (2,) not aligned: 1 (dim 0) != 2 (dim 0)",
     "output_type": "error",
     "traceback": [
      "\u001b[1;31m---------------------------------------------------------------------------\u001b[0m",
      "\u001b[1;31mValueError\u001b[0m                                Traceback (most recent call last)",
      "Cell \u001b[1;32mIn[9], line 1\u001b[0m\n\u001b[1;32m----> 1\u001b[0m \u001b[43mnp\u001b[49m\u001b[38;5;241;43m.\u001b[39;49m\u001b[43mdot\u001b[49m\u001b[43m(\u001b[49m\u001b[43m[\u001b[49m\u001b[38;5;241;43m9.8\u001b[39;49m\u001b[43m]\u001b[49m\u001b[43m,\u001b[49m\u001b[43m \u001b[49m\u001b[43m[\u001b[49m\u001b[38;5;241;43m2\u001b[39;49m\u001b[43m,\u001b[49m\u001b[38;5;241;43m3\u001b[39;49m\u001b[43m]\u001b[49m\u001b[43m)\u001b[49m\n",
      "\u001b[1;31mValueError\u001b[0m: shapes (1,) and (2,) not aligned: 1 (dim 0) != 2 (dim 0)"
     ]
    }
   ],
   "source": [
    "np.dot([9.8], [2,3])"
   ]
  },
  {
   "cell_type": "code",
   "execution_count": 13,
   "id": "fbdcd10f-c052-48c8-a3ec-eeb961606484",
   "metadata": {},
   "outputs": [
    {
     "name": "stdout",
     "output_type": "stream",
     "text": [
      "Connected to the database\n"
     ]
    },
    {
     "name": "stderr",
     "output_type": "stream",
     "text": [
      "C:\\Users\\Lenovo\\AppData\\Local\\Temp\\ipykernel_8464\\2750441448.py:14: UserWarning: pandas only supports SQLAlchemy connectable (engine/connection) or database string URI or sqlite3 DBAPI2 connection. Other DBAPI2 objects are not tested. Please consider using SQLAlchemy.\n",
      "  df = pd.read_sql_query(query, connection)\n"
     ]
    }
   ],
   "source": [
    "tbl_name='economy'\n",
    "connection = psycopg2.connect(\n",
    "            dbname=\"django_ops\",\n",
    "            user=\"django_user\",\n",
    "            password=\"django_password\",\n",
    "            host=\"localhost\",  # or your host\n",
    "            port=\"5432\"  # default port for PostgreSQL\n",
    ")\n",
    "cursor = connection.cursor()\n",
    "print(\"Connected to the database\")\n",
    "\n",
    "# SQL query to select all data from the table\n",
    "query = f\"SELECT * FROM {tbl_name}\"\n",
    "df = pd.read_sql_query(query, connection)\n",
    "\n",
    "paragraphs=list(df['paragraph'])\n",
    "embeddings=list(df['embeddings'])\n"
   ]
  },
  {
   "cell_type": "code",
   "execution_count": 16,
   "id": "59779669-b717-4ee1-8708-6df330f0b8d3",
   "metadata": {},
   "outputs": [
    {
     "data": {
      "text/plain": [
       "list"
      ]
     },
     "execution_count": 16,
     "metadata": {},
     "output_type": "execute_result"
    }
   ],
   "source": [
    "type(embeddings[0])"
   ]
  },
  {
   "cell_type": "code",
   "execution_count": 20,
   "id": "27f60df9-536a-4727-a4e5-7ccf460515de",
   "metadata": {},
   "outputs": [
    {
     "data": {
      "text/plain": [
       "333.84616956508114"
      ]
     },
     "execution_count": 20,
     "metadata": {},
     "output_type": "execute_result"
    }
   ],
   "source": [
    "np.dot(prompt_embedding, embeddings[0])"
   ]
  }
 ],
 "metadata": {
  "kernelspec": {
   "display_name": "Python 3 (ipykernel)",
   "language": "python",
   "name": "python3"
  },
  "language_info": {
   "codemirror_mode": {
    "name": "ipython",
    "version": 3
   },
   "file_extension": ".py",
   "mimetype": "text/x-python",
   "name": "python",
   "nbconvert_exporter": "python",
   "pygments_lexer": "ipython3",
   "version": "3.9.12"
  }
 },
 "nbformat": 4,
 "nbformat_minor": 5
}
